{
 "cells": [
  {
   "cell_type": "code",
   "execution_count": 35,
   "id": "34895fbf-e3fe-4197-bc89-72b66334c5b9",
   "metadata": {},
   "outputs": [],
   "source": [
    "import pandas as pd\n",
    "from konlpy.tag import Mecab\n",
    "from hanspell import spell_checker\n",
    "from transformers import AutoTokenizer\n",
    "tagger = Mecab(\"C:/mecab/mecab-ko-dic\")\n",
    "\n",
    "%matplotlib inline"
   ]
  },
  {
   "cell_type": "code",
   "execution_count": 31,
   "id": "2abd1dfb-b2a5-47c0-b3bd-07a59aeef6b6",
   "metadata": {},
   "outputs": [],
   "source": [
    "train = pd.read_csv(\"./RawData/train_data.csv\").drop(\"index\", axis = \"columns\")\n",
    "external = pd.read_csv(\"./RawData/external data/snli_1.0_train.ko.tsv\", sep = \"\\t\")\n",
    "external.columns = [\"premise\", \"hypothesis\", \"label\"]\n",
    "external = external.loc[external.premise.str.len() < train.premise.str.len().max(), :]\n",
    "external = external.loc[external.hypothesis.str.len() < train.hypothesis.str.len().max(), :].reset_index(drop = True)"
   ]
  },
  {
   "cell_type": "code",
   "execution_count": 38,
   "id": "25e8b55a-66a3-4bba-8ab0-6df540783ae1",
   "metadata": {},
   "outputs": [
    {
     "data": {
      "text/plain": [
       "1"
      ]
     },
     "execution_count": 38,
     "metadata": {},
     "output_type": "execute_result"
    }
   ],
   "source": [
    "train.premise.apply(lambda x : len(x.split(' '))).min()"
   ]
  },
  {
   "cell_type": "code",
   "execution_count": 36,
   "id": "3836f4f2-9c8c-4f11-b5f7-1b30b9a09adc",
   "metadata": {},
   "outputs": [
    {
     "data": {
      "text/plain": [
       "<AxesSubplot:>"
      ]
     },
     "execution_count": 36,
     "metadata": {},
     "output_type": "execute_result"
    },
    {
     "data": {
      "image/png": "[encoded data removed]",
      "text/plain": [
       "<Figure size 432x288 with 1 Axes>"
      ]
     },
     "metadata": {
      "needs_background": "light"
     },
     "output_type": "display_data"
    }
   ],
   "source": [
    "train.premise.apply(lambda x : len(x.split(' '))).hist()"
   ]
  },
  {
   "cell_type": "code",
   "execution_count": 26,
   "id": "a4d0e96f-88fd-4c0e-8837-2ce28944d479",
   "metadata": {},
   "outputs": [],
   "source": [
    "train = pd.read_csv(\"./RawData/train_data.csv\").drop(\"index\", axis = \"columns\")\n",
    "\n",
    "external = pd.read_csv(\"./RawData/external data/snli_1.0_train.ko.tsv\", sep = \"\\t\")\n",
    "external.columns = [\"premise\", \"hypothesis\", \"label\"]\n",
    "external = external.loc[external.premise.str.len() < train.premise.str.len().max(), :]\n",
    "external = external.loc[external.hypothesis.str.len() < train.hypothesis.str.len().max(), :].reset_index(drop = True)\n",
    "\n",
    "train = pd.concat([train, external], axis = 0)"
   ]
  },
  {
   "cell_type": "code",
   "execution_count": 27,
   "id": "93e7e870-a58f-4348-bd5e-98f7c9a42e2d",
   "metadata": {},
   "outputs": [
    {
     "data": {
      "text/html": [
       "<div>\n",
       "<style scoped>\n",
       "    .dataframe tbody tr th:only-of-type {\n",
       "        vertical-align: middle;\n",
       "    }\n",
       "\n",
       "    .dataframe tbody tr th {\n",
       "        vertical-align: top;\n",
       "    }\n",
       "\n",
       "    .dataframe thead th {\n",
       "        text-align: right;\n",
       "    }\n",
       "</style>\n",
       "<table border=\"1\" class=\"dataframe\">\n",
       "  <thead>\n",
       "    <tr style=\"text-align: right;\">\n",
       "      <th></th>\n",
       "      <th>premise</th>\n",
       "      <th>hypothesis</th>\n",
       "    </tr>\n",
       "    <tr>\n",
       "      <th>label</th>\n",
       "      <th></th>\n",
       "      <th></th>\n",
       "    </tr>\n",
       "  </thead>\n",
       "  <tbody>\n",
       "    <tr>\n",
       "      <th>contradiction</th>\n",
       "      <td>191011</td>\n",
       "      <td>191011</td>\n",
       "    </tr>\n",
       "    <tr>\n",
       "      <th>entailment</th>\n",
       "      <td>191085</td>\n",
       "      <td>191085</td>\n",
       "    </tr>\n",
       "    <tr>\n",
       "      <th>neutral</th>\n",
       "      <td>190470</td>\n",
       "      <td>190470</td>\n",
       "    </tr>\n",
       "  </tbody>\n",
       "</table>\n",
       "</div>"
      ],
      "text/plain": [
       "               premise  hypothesis\n",
       "label                             \n",
       "contradiction   191011      191011\n",
       "entailment      191085      191085\n",
       "neutral         190470      190470"
      ]
     },
     "execution_count": 27,
     "metadata": {},
     "output_type": "execute_result"
    }
   ],
   "source": [
    "train.groupby(\"label\").count()"
   ]
  },
  {
   "cell_type": "code",
   "execution_count": 71,
   "id": "5ea46f09-77d5-4c05-b545-1b22221630e3",
   "metadata": {},
   "outputs": [
    {
     "data": {
      "text/plain": [
       "<AxesSubplot:>"
      ]
     },
     "execution_count": 71,
     "metadata": {},
     "output_type": "execute_result"
    },
    {
     "data": {
      "image/png": "[encoded data removed]",
      "text/plain": [
       "<Figure size 432x288 with 1 Axes>"
      ]
     },
     "metadata": {
      "needs_background": "light"
     },
     "output_type": "display_data"
    }
   ],
   "source": [
    "train.hypothesis.str.len().hist()"
   ]
  },
  {
   "cell_type": "code",
   "execution_count": 72,
   "id": "4ed09f36-8cf1-416e-b3d2-1f831ff10ceb",
   "metadata": {},
   "outputs": [
    {
     "data": {
      "text/plain": [
       "<AxesSubplot:>"
      ]
     },
     "execution_count": 72,
     "metadata": {},
     "output_type": "execute_result"
    },
    {
     "data": {
      "image/png": "[encoded data removed]",
      "text/plain": [
       "<Figure size 432x288 with 1 Axes>"
      ]
     },
     "metadata": {
      "needs_background": "light"
     },
     "output_type": "display_data"
    }
   ],
   "source": [
    "train.premise.str.len().hist()"
   ]
  },
  {
   "cell_type": "code",
   "execution_count": 94,
   "id": "9b71b499-7353-40a8-b6f9-bb2afa75f88b",
   "metadata": {},
   "outputs": [
    {
     "data": {
      "text/html": [
       "<div>\n",
       "<style scoped>\n",
       "    .dataframe tbody tr th:only-of-type {\n",
       "        vertical-align: middle;\n",
       "    }\n",
       "\n",
       "    .dataframe tbody tr th {\n",
       "        vertical-align: top;\n",
       "    }\n",
       "\n",
       "    .dataframe thead th {\n",
       "        text-align: right;\n",
       "    }\n",
       "</style>\n",
       "<table border=\"1\" class=\"dataframe\">\n",
       "  <thead>\n",
       "    <tr style=\"text-align: right;\">\n",
       "      <th></th>\n",
       "      <th>premise</th>\n",
       "      <th>hypothesis</th>\n",
       "      <th>label</th>\n",
       "    </tr>\n",
       "  </thead>\n",
       "  <tbody>\n",
       "    <tr>\n",
       "      <th>4536</th>\n",
       "      <td>100분간 잘껄 그래도 소닉붐땜에 2점준다</td>\n",
       "      <td>100분간 자는게 더 나았을 것 같다.</td>\n",
       "      <td>neutral</td>\n",
       "    </tr>\n",
       "    <tr>\n",
       "      <th>5186</th>\n",
       "      <td>100분간 잘껄 그래도 소닉붐땜에 2점준다</td>\n",
       "      <td>100분간 잤다.</td>\n",
       "      <td>contradiction</td>\n",
       "    </tr>\n",
       "    <tr>\n",
       "      <th>8060</th>\n",
       "      <td>100분간 잘껄 그래도 소닉붐땜에 2점준다</td>\n",
       "      <td>소닉붐이 정말 멋있었다.</td>\n",
       "      <td>neutral</td>\n",
       "    </tr>\n",
       "    <tr>\n",
       "      <th>24050</th>\n",
       "      <td>101빌딩 근처에 나름 즐길거리가 많습니다.</td>\n",
       "      <td>101빌딩 주변에 젊은이들이 즐길거리가 많습니다.</td>\n",
       "      <td>neutral</td>\n",
       "    </tr>\n",
       "    <tr>\n",
       "      <th>147</th>\n",
       "      <td>101빌딩 근처에 나름 즐길거리가 많습니다.</td>\n",
       "      <td>101빌딩 근처에서 즐길거리 찾기는 어렵습니다.</td>\n",
       "      <td>contradiction</td>\n",
       "    </tr>\n",
       "    <tr>\n",
       "      <th>...</th>\n",
       "      <td>...</td>\n",
       "      <td>...</td>\n",
       "      <td>...</td>\n",
       "    </tr>\n",
       "    <tr>\n",
       "      <th>9488</th>\n",
       "      <td>힐링푸드 전문가 양성 교육 참여, 개발 음식 활용 등의 혜택도 주어진다.</td>\n",
       "      <td>개발 음식 활용 혜택만 주어진다.</td>\n",
       "      <td>contradiction</td>\n",
       "    </tr>\n",
       "    <tr>\n",
       "      <th>24945</th>\n",
       "      <td>힐링푸드 전문가 양성 교육 참여, 개발 음식 활용 등의 혜택도 주어진다.</td>\n",
       "      <td>힐링푸드 전문가에게 혜택이 주어진다.</td>\n",
       "      <td>neutral</td>\n",
       "    </tr>\n",
       "    <tr>\n",
       "      <th>15014</th>\n",
       "      <td>힛걸 진심 최고다 그 어떤 히어로보다 멋지다</td>\n",
       "      <td>힛걸 그 어떤 히어로보다 별로다.</td>\n",
       "      <td>contradiction</td>\n",
       "    </tr>\n",
       "    <tr>\n",
       "      <th>8171</th>\n",
       "      <td>힛걸 진심 최고다 그 어떤 히어로보다 멋지다</td>\n",
       "      <td>힛걸 액션 장면 진심 그 어떤 히어로보다 멋지다.</td>\n",
       "      <td>neutral</td>\n",
       "    </tr>\n",
       "    <tr>\n",
       "      <th>24543</th>\n",
       "      <td>힛걸 진심 최고다 그 어떤 히어로보다 멋지다</td>\n",
       "      <td>힛걸 진심 최고로 멋지다.</td>\n",
       "      <td>entailment</td>\n",
       "    </tr>\n",
       "  </tbody>\n",
       "</table>\n",
       "<p>24998 rows × 3 columns</p>\n",
       "</div>"
      ],
      "text/plain": [
       "                                        premise                   hypothesis  \\\n",
       "4536                    100분간 잘껄 그래도 소닉붐땜에 2점준다        100분간 자는게 더 나았을 것 같다.   \n",
       "5186                    100분간 잘껄 그래도 소닉붐땜에 2점준다                    100분간 잤다.   \n",
       "8060                    100분간 잘껄 그래도 소닉붐땜에 2점준다                소닉붐이 정말 멋있었다.   \n",
       "24050                  101빌딩 근처에 나름 즐길거리가 많습니다.  101빌딩 주변에 젊은이들이 즐길거리가 많습니다.   \n",
       "147                    101빌딩 근처에 나름 즐길거리가 많습니다.   101빌딩 근처에서 즐길거리 찾기는 어렵습니다.   \n",
       "...                                         ...                          ...   \n",
       "9488   힐링푸드 전문가 양성 교육 참여, 개발 음식 활용 등의 혜택도 주어진다.           개발 음식 활용 혜택만 주어진다.   \n",
       "24945  힐링푸드 전문가 양성 교육 참여, 개발 음식 활용 등의 혜택도 주어진다.         힐링푸드 전문가에게 혜택이 주어진다.   \n",
       "15014                  힛걸 진심 최고다 그 어떤 히어로보다 멋지다           힛걸 그 어떤 히어로보다 별로다.   \n",
       "8171                   힛걸 진심 최고다 그 어떤 히어로보다 멋지다  힛걸 액션 장면 진심 그 어떤 히어로보다 멋지다.   \n",
       "24543                  힛걸 진심 최고다 그 어떤 히어로보다 멋지다               힛걸 진심 최고로 멋지다.   \n",
       "\n",
       "               label  \n",
       "4536         neutral  \n",
       "5186   contradiction  \n",
       "8060         neutral  \n",
       "24050        neutral  \n",
       "147    contradiction  \n",
       "...              ...  \n",
       "9488   contradiction  \n",
       "24945        neutral  \n",
       "15014  contradiction  \n",
       "8171         neutral  \n",
       "24543     entailment  \n",
       "\n",
       "[24998 rows x 3 columns]"
      ]
     },
     "execution_count": 94,
     "metadata": {},
     "output_type": "execute_result"
    }
   ],
   "source": [
    "train.sort_values(\"premise\")"
   ]
  },
  {
   "cell_type": "code",
   "execution_count": 88,
   "id": "387e92c3-9a9b-4a11-b4fb-bde2b914b825",
   "metadata": {},
   "outputs": [
    {
     "data": {
      "text/plain": [
       "45"
      ]
     },
     "execution_count": 88,
     "metadata": {},
     "output_type": "execute_result"
    }
   ],
   "source": [
    "train.hypothesis.str.contains(\"[a-zA-Z]\").sum()"
   ]
  },
  {
   "cell_type": "code",
   "execution_count": 44,
   "id": "d8a84f3b-2a79-4356-ab42-e3bca247b3c4",
   "metadata": {},
   "outputs": [],
   "source": [
    "morphed_premise = train.premise.apply(lambda x : tagger.morphs(x))\n",
    "morphed_hypothesis = train.hypothesis.apply(lambda x : tagger.morphs(x))"
   ]
  },
  {
   "cell_type": "code",
   "execution_count": 45,
   "id": "c5caa6a2-5f79-4294-b7d4-0f1100128ca1",
   "metadata": {},
   "outputs": [
    {
     "data": {
      "text/plain": [
       "0        [씨름, 은, 상고, 시대, 로부터, 전해져, 내려오, 는, 남자, 들, 의, 대표...\n",
       "1        [삼성, 은, 자작극, 을, 벌인, 2, 명, 에게, 형사, 고소, 등, 의, 법,...\n",
       "2        [이, 를, 위해, 예측, 적, 범죄, 예방, 시스템, 을, 구축, 하, 고, 고도...\n",
       "3        [광주, 광역시, 가, 재, 개발, 정비, 사업, 원주민, 들, 에, 대한, 종합,...\n",
       "4        [진정, 소비자, 와, 직원, 들, 에게, 사랑, 받, 는, 기업, 으로, 오래, ...\n",
       "                               ...                        \n",
       "24993    [오페라, 에, 비하, 여, 오라토리오, 에서, 는, 독창, 보다, 도, 합창, 이...\n",
       "24994                   [지하철역, 까지, 걸어서, 5, 분, 정도, 걸립니다, .]\n",
       "24995    [한편, 이날, 중앙, 방역, 대책, 본부, 는, 집단, 감염, 이, 발생, 한, ...\n",
       "24996    [마미손, 이, 랩, 을, 하, 자, 시청자, 들, 은, 그, 의, 정체, 를, 파...\n",
       "24997    [집, 근처, 에, 지하철역, ,, 버스, 정류장, 이, 있, 기, 때문, 에, 다...\n",
       "Name: premise, Length: 24998, dtype: object"
      ]
     },
     "execution_count": 45,
     "metadata": {},
     "output_type": "execute_result"
    }
   ],
   "source": [
    "morphed_premise"
   ]
  },
  {
   "cell_type": "code",
   "execution_count": 96,
   "id": "ec142114-857a-48db-b5a0-e8016a0a4632",
   "metadata": {},
   "outputs": [
    {
     "data": {
      "text/plain": [
       "0        [씨름, 은, 상고, 시대, 로부터, 전해져, 내려오, 는, 남자, 들, 의, 대표...\n",
       "1        [삼성, 은, 자작극, 을, 벌인, 2, 명, 에게, 형사, 고소, 등, 의, 법,...\n",
       "2        [이, 를, 위해, 예측, 적, 범죄, 예방, 시스템, 을, 구축, 하, 고, 고도...\n",
       "3        [광주, 광역시, 가, 재, 개발, 정비, 사업, 원주민, 들, 에, 대한, 종합,...\n",
       "4        [진정, 소비자, 와, 직원, 들, 에게, 사랑, 받, 는, 기업, 으로, 오래, ...\n",
       "                               ...                        \n",
       "24993    [오페라, 에, 비하, 여, 오라토리오, 에서, 는, 독창, 보다, 도, 합창, 이...\n",
       "24994                   [지하철역, 까지, 걸어서, 5, 분, 정도, 걸립니다, .]\n",
       "24995    [한편, 이날, 중앙, 방역, 대책, 본부, 는, 집단, 감염, 이, 발생, 한, ...\n",
       "24996    [마미손, 이, 랩, 을, 하, 자, 시청자, 들, 은, 그, 의, 정체, 를, 파...\n",
       "24997    [집, 근처, 에, 지하철역, ,, 버스, 정류장, 이, 있, 기, 때문, 에, 다...\n",
       "Name: premise, Length: 24998, dtype: object"
      ]
     },
     "execution_count": 96,
     "metadata": {},
     "output_type": "execute_result"
    }
   ],
   "source": []
  },
  {
   "cell_type": "code",
   "execution_count": null,
   "id": "5e4edabf-2704-49aa-a205-7f9db2271c22",
   "metadata": {},
   "outputs": [],
   "source": []
  }
 ],
 "metadata": {
  "kernelspec": {
   "display_name": "Python 3",
   "language": "python",
   "name": "python3"
  },
  "language_info": {
   "codemirror_mode": {
    "name": "ipython",
    "version": 3
   },
   "file_extension": ".py",
   "mimetype": "text/x-python",
   "name": "python",
   "nbconvert_exporter": "python",
   "pygments_lexer": "ipython3",
   "version": "3.7.6"
  }
 },
 "nbformat": 4,
 "nbformat_minor": 5
}
