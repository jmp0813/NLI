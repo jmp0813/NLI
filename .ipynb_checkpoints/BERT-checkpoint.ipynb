{
 "cells": [
  {
   "cell_type": "code",
   "execution_count": null,
   "id": "34895fbf-e3fe-4197-bc89-72b66334c5b9",
   "metadata": {},
   "outputs": [],
   "source": [
    "import pandas as pd\n",
    "import numpy as np\n",
    "import os\n",
    "\n",
    "from konlpy.tag import Mecab\n",
    "from hanspell import spell_checker\n",
    "from transformers import BertTokenizerFast\n",
    "from tokenizers import BertWordPieceTokenizer\n",
    "tagger = Mecab(\"C:/mecab/mecab-ko-dic\")\n",
    "\n",
    "%matplotlib inline"
   ]
  },
  {
   "cell_type": "code",
   "execution_count": 248,
   "id": "2abd1dfb-b2a5-47c0-b3bd-07a59aeef6b6",
   "metadata": {},
   "outputs": [],
   "source": [
    "train = pd.read_csv(\"./RawData/train_data.csv\").drop(\"index\", axis = \"columns\")\n",
    "\n",
    "external = pd.read_csv(\"./RawData/external data/snli_1.0_train.ko.tsv\", sep = \"\\t\")\n",
    "external.columns = [\"premise\", \"hypothesis\", \"label\"]\n",
    "external = external.loc[external.premise.str.len() < train.premise.str.len().max(), :]\n",
    "external = external.loc[external.hypothesis.str.len() < train.hypothesis.str.len().max(), :].reset_index(drop = True)\n",
    "\n",
    "train = pd.concat([train, external], axis = 0).reset_index(drop = True)"
   ]
  },
  {
   "cell_type": "code",
   "execution_count": 249,
   "id": "f32d540d-8659-437e-8554-79ac99e05436",
   "metadata": {},
   "outputs": [
    {
     "data": {
      "text/html": [
       "<div>\n",
       "<style scoped>\n",
       "    .dataframe tbody tr th:only-of-type {\n",
       "        vertical-align: middle;\n",
       "    }\n",
       "\n",
       "    .dataframe tbody tr th {\n",
       "        vertical-align: top;\n",
       "    }\n",
       "\n",
       "    .dataframe thead th {\n",
       "        text-align: right;\n",
       "    }\n",
       "</style>\n",
       "<table border=\"1\" class=\"dataframe\">\n",
       "  <thead>\n",
       "    <tr style=\"text-align: right;\">\n",
       "      <th></th>\n",
       "      <th>premise</th>\n",
       "      <th>hypothesis</th>\n",
       "    </tr>\n",
       "    <tr>\n",
       "      <th>label</th>\n",
       "      <th></th>\n",
       "      <th></th>\n",
       "    </tr>\n",
       "  </thead>\n",
       "  <tbody>\n",
       "    <tr>\n",
       "      <th>contradiction</th>\n",
       "      <td>191011</td>\n",
       "      <td>191011</td>\n",
       "    </tr>\n",
       "    <tr>\n",
       "      <th>entailment</th>\n",
       "      <td>191085</td>\n",
       "      <td>191085</td>\n",
       "    </tr>\n",
       "    <tr>\n",
       "      <th>neutral</th>\n",
       "      <td>190470</td>\n",
       "      <td>190470</td>\n",
       "    </tr>\n",
       "  </tbody>\n",
       "</table>\n",
       "</div>"
      ],
      "text/plain": [
       "               premise  hypothesis\n",
       "label                             \n",
       "contradiction   191011      191011\n",
       "entailment      191085      191085\n",
       "neutral         190470      190470"
      ]
     },
     "execution_count": 249,
     "metadata": {},
     "output_type": "execute_result"
    }
   ],
   "source": [
    "train.groupby(\"label\").count()"
   ]
  },
  {
   "cell_type": "code",
   "execution_count": 250,
   "id": "9f049e77-a71b-4c96-ab6d-0176d59ebb9a",
   "metadata": {},
   "outputs": [],
   "source": [
    "for_create_tokenizer = train.premise.unique().tolist() + train.hypothesis.unique().tolist()"
   ]
  },
  {
   "cell_type": "code",
   "execution_count": 253,
   "id": "c56e77d4-406e-45b2-99ea-86618087d536",
   "metadata": {},
   "outputs": [],
   "source": [
    "if not \"mecab_preprocessed.txt\"in os.listdir(\"./tokenizer\") :\n",
    "    with open('./tokenizer/mecab_preprocessed.txt', 'w', encoding='utf-8') as f:\n",
    "        for line in for_create_tokenizer:\n",
    "            f.write(' '.join(tagger.morphs(line))+'\\n')"
   ]
  },
  {
   "cell_type": "code",
   "execution_count": 255,
   "id": "a496646d-e741-4aff-babb-519a50f2ac97",
   "metadata": {},
   "outputs": [
    {
     "data": {
      "text/plain": [
       "['./tokenizer\\\\vocab.txt']"
      ]
     },
     "execution_count": 255,
     "metadata": {},
     "output_type": "execute_result"
    }
   ],
   "source": [
    "pre_tokenizer = BertWordPieceTokenizer(strip_accents = False,\n",
    "                                       lowercase = False)\n",
    "tokenizer_train_params = {\"files\" : \"./tokenizer/mecab_preprocessed.txt\",\n",
    "                          \"vocab_size\" : 32000,\n",
    "                          \"min_frequency\" : 5,\n",
    "                          \"limit_alphabet\" : 6000,\n",
    "                          \"special_tokens\" : [\"[CLS]\", \"[SEP]\", \"[UNK]\", \"[PAD]\", \"[MASK]\"]}\n",
    "pre_tokenizer.train(**tokenizer_train_params)\n",
    "pre_tokenizer.save_model(\"./tokenizer\")"
   ]
  },
  {
   "cell_type": "code",
   "execution_count": 256,
   "id": "6402cb88-3699-4356-886c-02bc1007e976",
   "metadata": {},
   "outputs": [
    {
     "name": "stderr",
     "output_type": "stream",
     "text": [
      "file ./tokenizer\\config.json not found\n",
      "file ./tokenizer\\config.json not found\n"
     ]
    }
   ],
   "source": [
    "a = BertTokenizerFast.from_pretrained(\"./tokenizer\", strip_accents = False, lowercase = False)"
   ]
  },
  {
   "cell_type": "code",
   "execution_count": 260,
   "id": "37ea64ca-e704-4cf7-8b2e-6b60e568456b",
   "metadata": {},
   "outputs": [
    {
     "data": {
      "text/plain": [
       "['씨',\n",
       " '##름',\n",
       " '##은',\n",
       " '상',\n",
       " '##고',\n",
       " '##시대',\n",
       " '##로부터',\n",
       " '전해',\n",
       " '##져',\n",
       " '내려오는',\n",
       " '남자',\n",
       " '##들의',\n",
       " '대표적인',\n",
       " '놀이',\n",
       " '##로서',\n",
       " ',',\n",
       " '소년',\n",
       " '##이나',\n",
       " '장',\n",
       " '##정',\n",
       " '##들이',\n",
       " '넓고',\n",
       " '평평',\n",
       " '##한',\n",
       " '백',\n",
       " '##사장',\n",
       " '##이나',\n",
       " '마당에',\n",
       " '##서',\n",
       " '모여',\n",
       " '서로',\n",
       " '힘',\n",
       " '##과',\n",
       " '슬',\n",
       " '##기를',\n",
       " '겨',\n",
       " '##루는',\n",
       " '것이다',\n",
       " '.',\n",
       " '말을',\n",
       " '탄',\n",
       " '사람이',\n",
       " '고장',\n",
       " '##난',\n",
       " '비행기',\n",
       " '위로',\n",
       " '뛰어',\n",
       " '##오른',\n",
       " '##다',\n",
       " '.']"
      ]
     },
     "execution_count": 260,
     "metadata": {},
     "output_type": "execute_result"
    }
   ],
   "source": [
    "tokenizer.tokenize(train.premise[0])"
   ]
  },
  {
   "cell_type": "code",
   "execution_count": 259,
   "id": "683bdfe4-13e8-4642-8908-3798a50b2ed9",
   "metadata": {},
   "outputs": [
    {
     "data": {
      "text/plain": [
       "['씨름',\n",
       " '##은',\n",
       " '상',\n",
       " '##고',\n",
       " '##시',\n",
       " '##대로',\n",
       " '##부터',\n",
       " '전해',\n",
       " '##져',\n",
       " '내려오',\n",
       " '##는',\n",
       " '남자',\n",
       " '##들',\n",
       " '##의',\n",
       " '대표',\n",
       " '##적',\n",
       " '##인',\n",
       " '놀이',\n",
       " '##로',\n",
       " '##서',\n",
       " ',',\n",
       " '소년',\n",
       " '##이',\n",
       " '##나',\n",
       " '장',\n",
       " '##정',\n",
       " '##들이',\n",
       " '넓',\n",
       " '##고',\n",
       " '평평',\n",
       " '##한',\n",
       " '백사장',\n",
       " '##이',\n",
       " '##나',\n",
       " '마당',\n",
       " '##에',\n",
       " '##서',\n",
       " '모여',\n",
       " '서로',\n",
       " '힘',\n",
       " '##과',\n",
       " '슬기',\n",
       " '##를',\n",
       " '겨루',\n",
       " '##는',\n",
       " '것',\n",
       " '##이다',\n",
       " '.',\n",
       " '말',\n",
       " '##을',\n",
       " '탄',\n",
       " '사람',\n",
       " '##이',\n",
       " '고장난',\n",
       " '비행기',\n",
       " '위로',\n",
       " '뛰어오른다',\n",
       " '.']"
      ]
     },
     "execution_count": 259,
     "metadata": {},
     "output_type": "execute_result"
    }
   ],
   "source": [
    "a.tokenize(train.premise[0])"
   ]
  },
  {
   "cell_type": "code",
   "execution_count": 91,
   "id": "bf3cda40-fa46-4dcf-83a1-5a4340c46239",
   "metadata": {},
   "outputs": [],
   "source": [
    "premise = pd.Series(train.premise.unique())"
   ]
  },
  {
   "cell_type": "code",
   "execution_count": 95,
   "id": "96de7cac-955d-4f7c-af2e-4533d87e0f7b",
   "metadata": {},
   "outputs": [],
   "source": [
    "premise = premise.apply(lambda x : spell_checker.check(x).checked)"
   ]
  },
  {
   "cell_type": "code",
   "execution_count": 98,
   "id": "a511564c-229b-4d1b-bee3-69f2baa943be",
   "metadata": {},
   "outputs": [
    {
     "data": {
      "text/plain": [
       "<AxesSubplot:>"
      ]
     },
     "execution_count": 98,
     "metadata": {},
     "output_type": "execute_result"
    },
    {
     "data": {
      "image/png": "[encoded data removed]",
      "text/plain": [
       "<Figure size 432x288 with 1 Axes>"
      ]
     },
     "metadata": {
      "needs_background": "light"
     },
     "output_type": "display_data"
    }
   ],
   "source": [
    "premise.apply(lambda x : x.split(' ')).str.len().hist()"
   ]
  },
  {
   "cell_type": "code",
   "execution_count": 104,
   "id": "b7381762-571c-426c-aa27-4b0d01a3a595",
   "metadata": {},
   "outputs": [],
   "source": [
    "tokenized_premise = train.premise.apply(lambda x : tokenizer.tokenize(x))"
   ]
  },
  {
   "cell_type": "code",
   "execution_count": 114,
   "id": "2c35cd7d-d21d-4590-a3ff-036db801020c",
   "metadata": {},
   "outputs": [
    {
     "data": {
      "text/plain": [
       "0       씨름은 상고시대로부터 전해져 내려오는 남자들의 대표적인 놀이로서, 소년이나 장정들이...\n",
       "1       삼성은 자작극을 벌인 2명에게 형사 고소 등의 법적 대응을 검토 중이라고 하였으나,...\n",
       "2                        이를 위해 예측적 범죄 예방 시스템을 구축하고 고도화한다.\n",
       "3       광주광역시가 재개발 정비 사업 원주민들에 대한 종합 대책을 마련하는 등 원주민 보호...\n",
       "4       진정 소비자와 직원들에게 사랑받는 기업으로 오래 지속되고 싶으면, 이런 상황에서는 ...\n",
       "                              ...                        \n",
       "8382    국무총리 후보로 지명된 김태호가 오늘 오전 10시에 기자회견을 열어 사퇴 의사를 표...\n",
       "8383    허술한 승무원의 훈련 실태를 질타해야 하는 것인지, 승무원의 인간성을 질타해야 하는...\n",
       "8384    강진군민장학 재단은 2005년에 설립되어 올해 5월 현재까지 162억 원의 장학금이...\n",
       "8385    전 세계는 지금 바다에 풍력발전 단지를 건설해 해풍을 재료로 청정한 에너지를 만들기...\n",
       "8386                           당시 재일교포들의 삶을 잘 보여주는 영화입니다.\n",
       "Length: 8387, dtype: object"
      ]
     },
     "execution_count": 114,
     "metadata": {},
     "output_type": "execute_result"
    }
   ],
   "source": [
    "premise"
   ]
  },
  {
   "cell_type": "code",
   "execution_count": 110,
   "id": "2dd1c9e6-a47d-4543-8e2d-042bd6a85bfd",
   "metadata": {},
   "outputs": [],
   "source": [
    "tokenized_premise = premise.apply(lambda x : tokenizer.tokenize(x))"
   ]
  },
  {
   "cell_type": "code",
   "execution_count": 115,
   "id": "464eac87-286e-4410-8154-29c94d0f3ccf",
   "metadata": {},
   "outputs": [
    {
     "data": {
      "text/plain": [
       "0       [씨, ##름, ##은, 상, ##고, ##시대, ##로부터, 전해, ##져, 내려...\n",
       "1       [삼성은, 자작, ##극, ##을, 벌인, 2명, ##에게, 형사, 고소, 등의, ...\n",
       "2       [이를, 위해, 예측, ##적, 범죄, 예방, 시스템을, 구축, ##하고, 고도, ...\n",
       "3       [광주, ##광역시, ##가, 재개발, 정비, 사업, 원주, ##민, ##들에, 대...\n",
       "4       [진정, 소비자, ##와, 직원, ##들에게, 사랑받는, 기업으로, 오래, 지속, ...\n",
       "                              ...                        \n",
       "8382    [국무, ##총리, 후보로, 지명, ##된, 김태, ##호가, 오늘, 오전, 10시...\n",
       "8383    [허술, ##한, 승무원, ##의, 훈련, 실, ##태를, 질, ##타, ##해야,...\n",
       "8384    [강, ##진, ##군, ##민, ##장, ##학, 재단, ##은, 2005년, #...\n",
       "8385    [전, 세계는, 지금, 바다에, 풍, ##력, ##발전, 단지, ##를, 건설, #...\n",
       "8386    [당시, 재, ##일, ##교, ##포, ##들의, 삶을, 잘, 보여주는, 영화, ...\n",
       "Length: 8387, dtype: object"
      ]
     },
     "execution_count": 115,
     "metadata": {},
     "output_type": "execute_result"
    }
   ],
   "source": [
    "tokenized_premise"
   ]
  },
  {
   "cell_type": "code",
   "execution_count": 112,
   "id": "2cd53b47-2b6a-48b6-9a54-d585c0a36e7a",
   "metadata": {},
   "outputs": [
    {
     "data": {
      "text/plain": [
       "<AxesSubplot:>"
      ]
     },
     "execution_count": 112,
     "metadata": {},
     "output_type": "execute_result"
    },
    {
     "data": {
      "image/png": "[encoded data removed]",
      "text/plain": [
       "<Figure size 432x288 with 1 Axes>"
      ]
     },
     "metadata": {
      "needs_background": "light"
     },
     "output_type": "display_data"
    }
   ],
   "source": [
    "tokenized_premise.apply(len).hist()"
   ]
  },
  {
   "cell_type": "code",
   "execution_count": 92,
   "id": "31ff5502-6f28-4417-a39e-09953df18251",
   "metadata": {},
   "outputs": [
    {
     "data": {
      "text/plain": [
       "<AxesSubplot:>"
      ]
     },
     "execution_count": 92,
     "metadata": {},
     "output_type": "execute_result"
    },
    {
     "data": {
      "image/png": "[encoded data removed]",
      "text/plain": [
       "<Figure size 432x288 with 1 Axes>"
      ]
     },
     "metadata": {
      "needs_background": "light"
     },
     "output_type": "display_data"
    }
   ],
   "source": [
    "premise.str.len().hist()"
   ]
  },
  {
   "cell_type": "code",
   "execution_count": 93,
   "id": "429bcb16-1628-4a40-8501-adaa3896c2ab",
   "metadata": {},
   "outputs": [
    {
     "data": {
      "text/plain": [
       "<AxesSubplot:>"
      ]
     },
     "execution_count": 93,
     "metadata": {},
     "output_type": "execute_result"
    },
    {
     "data": {
      "image/png": "[encoded data removed]",
      "text/plain": [
       "<Figure size 432x288 with 1 Axes>"
      ]
     },
     "metadata": {
      "needs_background": "light"
     },
     "output_type": "display_data"
    }
   ],
   "source": [
    "premise.apply(lambda x : len(x.split(' '))).hist()"
   ]
  },
  {
   "cell_type": "code",
   "execution_count": 71,
   "id": "5ea46f09-77d5-4c05-b545-1b22221630e3",
   "metadata": {},
   "outputs": [
    {
     "data": {
      "text/plain": [
       "<AxesSubplot:>"
      ]
     },
     "execution_count": 71,
     "metadata": {},
     "output_type": "execute_result"
    },
    {
     "data": {
      "image/png": "[encoded data removed]",
      "text/plain": [
       "<Figure size 432x288 with 1 Axes>"
      ]
     },
     "metadata": {
      "needs_background": "light"
     },
     "output_type": "display_data"
    }
   ],
   "source": [
    "train.hypothesis.str.len().hist()"
   ]
  },
  {
   "cell_type": "code",
   "execution_count": 82,
   "id": "4ed09f36-8cf1-416e-b3d2-1f831ff10ceb",
   "metadata": {},
   "outputs": [
    {
     "data": {
      "text/plain": [
       "<AxesSubplot:>"
      ]
     },
     "execution_count": 82,
     "metadata": {},
     "output_type": "execute_result"
    },
    {
     "data": {
      "image/png": "[encoded data removed]",
      "text/plain": [
       "<Figure size 432x288 with 1 Axes>"
      ]
     },
     "metadata": {
      "needs_background": "light"
     },
     "output_type": "display_data"
    }
   ],
   "source": [
    "train.hypothesis.str.split(' ').apply(len).hist()"
   ]
  },
  {
   "cell_type": "code",
   "execution_count": 85,
   "id": "3ccfee64-68d0-4a78-9539-a904e78ac471",
   "metadata": {},
   "outputs": [
    {
     "data": {
      "text/plain": [
       "array([], dtype=object)"
      ]
     },
     "execution_count": 85,
     "metadata": {},
     "output_type": "execute_result"
    }
   ],
   "source": [
    "train.loc[train.premise.str.len() < 10, 'premise'].unique()"
   ]
  },
  {
   "cell_type": "code",
   "execution_count": 87,
   "id": "6d7ea8b4-a662-4ffe-a950-4689e6d13462",
   "metadata": {},
   "outputs": [
    {
     "data": {
      "text/html": [
       "<div>\n",
       "<style scoped>\n",
       "    .dataframe tbody tr th:only-of-type {\n",
       "        vertical-align: middle;\n",
       "    }\n",
       "\n",
       "    .dataframe tbody tr th {\n",
       "        vertical-align: top;\n",
       "    }\n",
       "\n",
       "    .dataframe thead th {\n",
       "        text-align: right;\n",
       "    }\n",
       "</style>\n",
       "<table border=\"1\" class=\"dataframe\">\n",
       "  <thead>\n",
       "    <tr style=\"text-align: right;\">\n",
       "      <th></th>\n",
       "      <th>premise</th>\n",
       "      <th>hypothesis</th>\n",
       "      <th>label</th>\n",
       "    </tr>\n",
       "  </thead>\n",
       "  <tbody>\n",
       "    <tr>\n",
       "      <th>1092</th>\n",
       "      <td>최고의위치 친절한 호스트 좋았습니다</td>\n",
       "      <td>위치가 실망스럽지 않았습니다.</td>\n",
       "      <td>entailment</td>\n",
       "    </tr>\n",
       "    <tr>\n",
       "      <th>1496</th>\n",
       "      <td>3층숙소 엘리베이터 있어 편합니다.</td>\n",
       "      <td>엘레베이터 덕분에 편리합니다.</td>\n",
       "      <td>entailment</td>\n",
       "    </tr>\n",
       "    <tr>\n",
       "      <th>2656</th>\n",
       "      <td>최고의위치 친절한 호스트 좋았습니다</td>\n",
       "      <td>위치만 최고였습니다.</td>\n",
       "      <td>contradiction</td>\n",
       "    </tr>\n",
       "    <tr>\n",
       "      <th>3229</th>\n",
       "      <td>3층숙소 엘리베이터 있어 편합니다.</td>\n",
       "      <td>숙소는 1층뿐입니다.</td>\n",
       "      <td>contradiction</td>\n",
       "    </tr>\n",
       "    <tr>\n",
       "      <th>4476</th>\n",
       "      <td>턱수염은 턱과 뺨에 나는 수염이다.</td>\n",
       "      <td>턱수염은 뽑으면 안된다.</td>\n",
       "      <td>neutral</td>\n",
       "    </tr>\n",
       "    <tr>\n",
       "      <th>5433</th>\n",
       "      <td>최고의위치 친절한 호스트 좋았습니다</td>\n",
       "      <td>호스트가 불친절했습니다.</td>\n",
       "      <td>contradiction</td>\n",
       "    </tr>\n",
       "    <tr>\n",
       "      <th>6366</th>\n",
       "      <td>턱수염은 턱과 뺨에 나는 수염이다.</td>\n",
       "      <td>뺨에 나는 수염을 턱수염이라 한다.</td>\n",
       "      <td>entailment</td>\n",
       "    </tr>\n",
       "    <tr>\n",
       "      <th>16386</th>\n",
       "      <td>3층숙소 엘리베이터 있어 편합니다.</td>\n",
       "      <td>층마다 다 엘리베이터가 작동합니다.</td>\n",
       "      <td>neutral</td>\n",
       "    </tr>\n",
       "    <tr>\n",
       "      <th>22449</th>\n",
       "      <td>턱수염은 턱과 뺨에 나는 수염이다.</td>\n",
       "      <td>턱에 나는 수염은 턱수염이 아니다.</td>\n",
       "      <td>contradiction</td>\n",
       "    </tr>\n",
       "  </tbody>\n",
       "</table>\n",
       "</div>"
      ],
      "text/plain": [
       "                   premise           hypothesis          label\n",
       "1092   최고의위치 친절한 호스트 좋았습니다     위치가 실망스럽지 않았습니다.     entailment\n",
       "1496   3층숙소 엘리베이터 있어 편합니다.     엘레베이터 덕분에 편리합니다.     entailment\n",
       "2656   최고의위치 친절한 호스트 좋았습니다          위치만 최고였습니다.  contradiction\n",
       "3229   3층숙소 엘리베이터 있어 편합니다.          숙소는 1층뿐입니다.  contradiction\n",
       "4476   턱수염은 턱과 뺨에 나는 수염이다.        턱수염은 뽑으면 안된다.        neutral\n",
       "5433   최고의위치 친절한 호스트 좋았습니다        호스트가 불친절했습니다.  contradiction\n",
       "6366   턱수염은 턱과 뺨에 나는 수염이다.  뺨에 나는 수염을 턱수염이라 한다.     entailment\n",
       "16386  3층숙소 엘리베이터 있어 편합니다.  층마다 다 엘리베이터가 작동합니다.        neutral\n",
       "22449  턱수염은 턱과 뺨에 나는 수염이다.  턱에 나는 수염은 턱수염이 아니다.  contradiction"
      ]
     },
     "execution_count": 87,
     "metadata": {},
     "output_type": "execute_result"
    }
   ],
   "source": [
    "train.loc[train.premise.str.len() == train.premise.str.len().min(), :]"
   ]
  },
  {
   "cell_type": "code",
   "execution_count": null,
   "id": "5e4edabf-2704-49aa-a205-7f9db2271c22",
   "metadata": {},
   "outputs": [],
   "source": [
    "from transformers import BertTokenizerFast"
   ]
  },
  {
   "cell_type": "code",
   "execution_count": 38,
   "id": "006d4ee0-6438-47db-8e87-65923b8b0008",
   "metadata": {},
   "outputs": [],
   "source": [
    "tokenizer = BertTokenizerFast.from_pretrained(\"kykim/bert-kor-base\")\n",
    "a = tokenizer.batch_encode_plus(train.premise.tolist())"
   ]
  },
  {
   "cell_type": "code",
   "execution_count": 39,
   "id": "b1e77bb3-e6bc-476c-af97-82796e135444",
   "metadata": {},
   "outputs": [
    {
     "data": {
      "text/plain": [
       "[2, 0, 3]"
      ]
     },
     "execution_count": 39,
     "metadata": {},
     "output_type": "execute_result"
    }
   ],
   "source": [
    "tokenizer.encode(\"[UNK]\")"
   ]
  },
  {
   "cell_type": "code",
   "execution_count": 40,
   "id": "c7324ccf-2d91-4aed-a9d3-bb1a947a6739",
   "metadata": {},
   "outputs": [],
   "source": [
    "tokenizer_test = pd.DataFrame(a[\"input_ids\"])\n",
    "tokenizer_test = tokenizer_test.fillna(-1)"
   ]
  },
  {
   "cell_type": "code",
   "execution_count": 41,
   "id": "51fa4f1a-d556-49da-823c-87c55053fda9",
   "metadata": {},
   "outputs": [
    {
     "data": {
      "text/plain": [
       "3953817"
      ]
     },
     "execution_count": 41,
     "metadata": {},
     "output_type": "execute_result"
    }
   ],
   "source": [
    "(tokenizer_test == 0).sum().sum()"
   ]
  },
  {
   "cell_type": "code",
   "execution_count": 62,
   "id": "d701caae-23df-4bc2-a874-37ac8b7df8ba",
   "metadata": {},
   "outputs": [],
   "source": [
    "test = pd.read_csv(\"./RawData/test_data.csv\").drop(\"index\", axis = \"columns\")"
   ]
  },
  {
   "cell_type": "code",
   "execution_count": 72,
   "id": "2fa55ed1-7646-4938-b7a9-0a1dc221d75e",
   "metadata": {},
   "outputs": [
    {
     "data": {
      "text/plain": [
       "<AxesSubplot:>"
      ]
     },
     "execution_count": 72,
     "metadata": {},
     "output_type": "execute_result"
    },
    {
     "data": {
      "image/png": "[encoded data removed]",
      "text/plain": [
       "<Figure size 432x288 with 1 Axes>"
      ]
     },
     "metadata": {
      "needs_background": "light"
     },
     "output_type": "display_data"
    }
   ],
   "source": [
    "test.premise.str.len().hist()"
   ]
  },
  {
   "cell_type": "code",
   "execution_count": 88,
   "id": "1de1fb8b-d4e5-4050-a77e-afb09aa75ac5",
   "metadata": {},
   "outputs": [
    {
     "data": {
      "text/html": [
       "<div>\n",
       "<style scoped>\n",
       "    .dataframe tbody tr th:only-of-type {\n",
       "        vertical-align: middle;\n",
       "    }\n",
       "\n",
       "    .dataframe tbody tr th {\n",
       "        vertical-align: top;\n",
       "    }\n",
       "\n",
       "    .dataframe thead th {\n",
       "        text-align: right;\n",
       "    }\n",
       "</style>\n",
       "<table border=\"1\" class=\"dataframe\">\n",
       "  <thead>\n",
       "    <tr style=\"text-align: right;\">\n",
       "      <th></th>\n",
       "      <th>premise</th>\n",
       "      <th>hypothesis</th>\n",
       "      <th>label</th>\n",
       "    </tr>\n",
       "  </thead>\n",
       "  <tbody>\n",
       "    <tr>\n",
       "      <th>15</th>\n",
       "      <td>불편사항은 24시간 신고할 수 있다.</td>\n",
       "      <td>건의사항도 24시간 신고할 수 있다.</td>\n",
       "      <td>answer</td>\n",
       "    </tr>\n",
       "    <tr>\n",
       "      <th>29</th>\n",
       "      <td>불편사항은 24시간 신고할 수 있다.</td>\n",
       "      <td>불편사항은 새벽에도 신고할 수 있다.</td>\n",
       "      <td>answer</td>\n",
       "    </tr>\n",
       "    <tr>\n",
       "      <th>43</th>\n",
       "      <td>분명 민우는 운명을 바꿀 수 있었다.</td>\n",
       "      <td>민우는 미래에 운명을 바꿀 수 있다.</td>\n",
       "      <td>answer</td>\n",
       "    </tr>\n",
       "    <tr>\n",
       "      <th>51</th>\n",
       "      <td>끝까지 보는데 많은 인내가 필요했다.</td>\n",
       "      <td>끝까지 시간 가는 줄 몰랐다.</td>\n",
       "      <td>answer</td>\n",
       "    </tr>\n",
       "    <tr>\n",
       "      <th>129</th>\n",
       "      <td>시인의 편지가 얼어붙은 시대를 녹였다</td>\n",
       "      <td>나이든 시인의 편지가 얼어붙은 시대를 녹였다.</td>\n",
       "      <td>answer</td>\n",
       "    </tr>\n",
       "    <tr>\n",
       "      <th>211</th>\n",
       "      <td>사례집은 총 20편으로 구성돼 있다.</td>\n",
       "      <td>사례집은 총 5편으로 구성돼 있다.</td>\n",
       "      <td>answer</td>\n",
       "    </tr>\n",
       "    <tr>\n",
       "      <th>223</th>\n",
       "      <td>불편사항은 24시간 신고할 수 있다.</td>\n",
       "      <td>불편사항은 오전 중에만 신고할 수 있다.</td>\n",
       "      <td>answer</td>\n",
       "    </tr>\n",
       "    <tr>\n",
       "      <th>483</th>\n",
       "      <td>그때 당시엔 아바타보다 더 인기였어.</td>\n",
       "      <td>당시에는 아바타의 인기를 뛰어 넘었어.</td>\n",
       "      <td>answer</td>\n",
       "    </tr>\n",
       "    <tr>\n",
       "      <th>496</th>\n",
       "      <td>시인의 편지가 얼어붙은 시대를 녹였다</td>\n",
       "      <td>시인의 편지 덕분에 얼어붙은 시대가 녹았다.</td>\n",
       "      <td>answer</td>\n",
       "    </tr>\n",
       "    <tr>\n",
       "      <th>583</th>\n",
       "      <td>끝까지 보는데 많은 인내가 필요했다.</td>\n",
       "      <td>작품의 스토리가 지루해서 많은 사람들이 하품을 했다.</td>\n",
       "      <td>answer</td>\n",
       "    </tr>\n",
       "    <tr>\n",
       "      <th>675</th>\n",
       "      <td>끝까지 보는데 많은 인내가 필요했다.</td>\n",
       "      <td>끝까지 보기 위해 많이 참아야 했다.</td>\n",
       "      <td>answer</td>\n",
       "    </tr>\n",
       "    <tr>\n",
       "      <th>1002</th>\n",
       "      <td>시인의 편지가 얼어붙은 시대를 녹였다</td>\n",
       "      <td>시인의 편지 때문에 시대가 얼어붙었다.</td>\n",
       "      <td>answer</td>\n",
       "    </tr>\n",
       "    <tr>\n",
       "      <th>1143</th>\n",
       "      <td>분명 민우는 운명을 바꿀 수 있었다.</td>\n",
       "      <td>민우는 운명을 바꿀 수 없었다.</td>\n",
       "      <td>answer</td>\n",
       "    </tr>\n",
       "    <tr>\n",
       "      <th>1158</th>\n",
       "      <td>그때 당시엔 아바타보다 더 인기였어.</td>\n",
       "      <td>아바타의 인기는 일본에서보다 한국에서 많았다.</td>\n",
       "      <td>answer</td>\n",
       "    </tr>\n",
       "    <tr>\n",
       "      <th>1247</th>\n",
       "      <td>그때 당시엔 아바타보다 더 인기였어.</td>\n",
       "      <td>아바타는 당시에 최고의 인기를 누렸다.</td>\n",
       "      <td>answer</td>\n",
       "    </tr>\n",
       "    <tr>\n",
       "      <th>1381</th>\n",
       "      <td>사례집은 총 20편으로 구성돼 있다.</td>\n",
       "      <td>사례집은 특수 사례로만 구성돼 있다.</td>\n",
       "      <td>answer</td>\n",
       "    </tr>\n",
       "    <tr>\n",
       "      <th>1426</th>\n",
       "      <td>사례집은 총 20편으로 구성돼 있다.</td>\n",
       "      <td>20편으로 구성된 사례집이다.</td>\n",
       "      <td>answer</td>\n",
       "    </tr>\n",
       "    <tr>\n",
       "      <th>1570</th>\n",
       "      <td>분명 민우는 운명을 바꿀 수 있었다.</td>\n",
       "      <td>민우는 분명히 자신의 운명을 바꿀 수 있었다.</td>\n",
       "      <td>answer</td>\n",
       "    </tr>\n",
       "  </tbody>\n",
       "</table>\n",
       "</div>"
      ],
      "text/plain": [
       "                   premise                     hypothesis   label\n",
       "15    불편사항은 24시간 신고할 수 있다.           건의사항도 24시간 신고할 수 있다.  answer\n",
       "29    불편사항은 24시간 신고할 수 있다.           불편사항은 새벽에도 신고할 수 있다.  answer\n",
       "43    분명 민우는 운명을 바꿀 수 있었다.           민우는 미래에 운명을 바꿀 수 있다.  answer\n",
       "51    끝까지 보는데 많은 인내가 필요했다.               끝까지 시간 가는 줄 몰랐다.  answer\n",
       "129   시인의 편지가 얼어붙은 시대를 녹였다      나이든 시인의 편지가 얼어붙은 시대를 녹였다.  answer\n",
       "211   사례집은 총 20편으로 구성돼 있다.            사례집은 총 5편으로 구성돼 있다.  answer\n",
       "223   불편사항은 24시간 신고할 수 있다.         불편사항은 오전 중에만 신고할 수 있다.  answer\n",
       "483   그때 당시엔 아바타보다 더 인기였어.          당시에는 아바타의 인기를 뛰어 넘었어.  answer\n",
       "496   시인의 편지가 얼어붙은 시대를 녹였다       시인의 편지 덕분에 얼어붙은 시대가 녹았다.  answer\n",
       "583   끝까지 보는데 많은 인내가 필요했다.  작품의 스토리가 지루해서 많은 사람들이 하품을 했다.  answer\n",
       "675   끝까지 보는데 많은 인내가 필요했다.           끝까지 보기 위해 많이 참아야 했다.  answer\n",
       "1002  시인의 편지가 얼어붙은 시대를 녹였다          시인의 편지 때문에 시대가 얼어붙었다.  answer\n",
       "1143  분명 민우는 운명을 바꿀 수 있었다.              민우는 운명을 바꿀 수 없었다.  answer\n",
       "1158  그때 당시엔 아바타보다 더 인기였어.      아바타의 인기는 일본에서보다 한국에서 많았다.  answer\n",
       "1247  그때 당시엔 아바타보다 더 인기였어.          아바타는 당시에 최고의 인기를 누렸다.  answer\n",
       "1381  사례집은 총 20편으로 구성돼 있다.           사례집은 특수 사례로만 구성돼 있다.  answer\n",
       "1426  사례집은 총 20편으로 구성돼 있다.               20편으로 구성된 사례집이다.  answer\n",
       "1570  분명 민우는 운명을 바꿀 수 있었다.      민우는 분명히 자신의 운명을 바꿀 수 있었다.  answer"
      ]
     },
     "execution_count": 88,
     "metadata": {},
     "output_type": "execute_result"
    }
   ],
   "source": [
    "test.loc[test.premise.str.len() == test.premise.str.len().min(), :]"
   ]
  },
  {
   "cell_type": "code",
   "execution_count": null,
   "id": "59fa3498-70e4-4f33-b12d-8b404bd8717e",
   "metadata": {},
   "outputs": [],
   "source": []
  }
 ],
 "metadata": {
  "kernelspec": {
   "display_name": "Python 3",
   "language": "python",
   "name": "python3"
  },
  "language_info": {
   "codemirror_mode": {
    "name": "ipython",
    "version": 3
   },
   "file_extension": ".py",
   "mimetype": "text/x-python",
   "name": "python",
   "nbconvert_exporter": "python",
   "pygments_lexer": "ipython3",
   "version": "3.7.6"
  }
 },
 "nbformat": 4,
 "nbformat_minor": 5
}
