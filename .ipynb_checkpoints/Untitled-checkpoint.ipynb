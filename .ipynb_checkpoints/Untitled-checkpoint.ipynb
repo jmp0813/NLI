{
 "cells": [
  {
   "cell_type": "code",
   "execution_count": 26,
   "id": "34895fbf-e3fe-4197-bc89-72b66334c5b9",
   "metadata": {},
   "outputs": [],
   "source": [
    "import pandas as pd\n",
    "from konlpy.tag import Mecab\n",
    "from hanspell import spell_checker\n",
    "\n",
    "tagger = Mecab(\"C:/mecab/mecab-ko-dic\")"
   ]
  },
  {
   "cell_type": "code",
   "execution_count": 41,
   "id": "2abd1dfb-b2a5-47c0-b3bd-07a59aeef6b6",
   "metadata": {},
   "outputs": [],
   "source": [
    "train = pd.read_csv(\"./RawData/train_data.csv\").drop(\"index\", axis = \"columns\")\n",
    "external = pd.read_csv(\"./RawData/external data/snli_1.0_train.ko.tsv\", sep = \"\\t\")\n",
    "external.columns = [\"premise\", \"hypothesis\", \"label\"]"
   ]
  },
  {
   "cell_type": "code",
   "execution_count": 42,
   "id": "5ea46f09-77d5-4c05-b545-1b22221630e3",
   "metadata": {},
   "outputs": [
    {
     "data": {
      "text/plain": [
       "<AxesSubplot:>"
      ]
     },
     "execution_count": 42,
     "metadata": {},
     "output_type": "execute_result"
    },
    {
     "data": {
      "image/png": "[encoded data removed]",
      "text/plain": [
       "<Figure size 432x288 with 1 Axes>"
      ]
     },
     "metadata": {
      "needs_background": "light"
     },
     "output_type": "display_data"
    }
   ],
   "source": [
    "train.hypothesis.str.len().hist()"
   ]
  },
  {
   "cell_type": "code",
   "execution_count": 43,
   "id": "4ed09f36-8cf1-416e-b3d2-1f831ff10ceb",
   "metadata": {},
   "outputs": [
    {
     "data": {
      "text/plain": [
       "<AxesSubplot:>"
      ]
     },
     "execution_count": 43,
     "metadata": {},
     "output_type": "execute_result"
    },
    {
     "data": {
      "image/png": "[encoded data removed]",
      "text/plain": [
       "<Figure size 432x288 with 1 Axes>"
      ]
     },
     "metadata": {
      "needs_background": "light"
     },
     "output_type": "display_data"
    }
   ],
   "source": [
    "train.premise.str.len().hist()"
   ]
  },
  {
   "cell_type": "code",
   "execution_count": 44,
   "id": "d8a84f3b-2a79-4356-ab42-e3bca247b3c4",
   "metadata": {},
   "outputs": [],
   "source": [
    "morphed_premise = train.premise.apply(lambda x : tagger.morphs(x))\n",
    "morphed_hypothesis = train.hypothesis.apply(lambda x : tagger.morphs(x))"
   ]
  },
  {
   "cell_type": "code",
   "execution_count": 45,
   "id": "c5caa6a2-5f79-4294-b7d4-0f1100128ca1",
   "metadata": {},
   "outputs": [
    {
     "data": {
      "text/plain": [
       "0        [씨름, 은, 상고, 시대, 로부터, 전해져, 내려오, 는, 남자, 들, 의, 대표...\n",
       "1        [삼성, 은, 자작극, 을, 벌인, 2, 명, 에게, 형사, 고소, 등, 의, 법,...\n",
       "2        [이, 를, 위해, 예측, 적, 범죄, 예방, 시스템, 을, 구축, 하, 고, 고도...\n",
       "3        [광주, 광역시, 가, 재, 개발, 정비, 사업, 원주민, 들, 에, 대한, 종합,...\n",
       "4        [진정, 소비자, 와, 직원, 들, 에게, 사랑, 받, 는, 기업, 으로, 오래, ...\n",
       "                               ...                        \n",
       "24993    [오페라, 에, 비하, 여, 오라토리오, 에서, 는, 독창, 보다, 도, 합창, 이...\n",
       "24994                   [지하철역, 까지, 걸어서, 5, 분, 정도, 걸립니다, .]\n",
       "24995    [한편, 이날, 중앙, 방역, 대책, 본부, 는, 집단, 감염, 이, 발생, 한, ...\n",
       "24996    [마미손, 이, 랩, 을, 하, 자, 시청자, 들, 은, 그, 의, 정체, 를, 파...\n",
       "24997    [집, 근처, 에, 지하철역, ,, 버스, 정류장, 이, 있, 기, 때문, 에, 다...\n",
       "Name: premise, Length: 24998, dtype: object"
      ]
     },
     "execution_count": 45,
     "metadata": {},
     "output_type": "execute_result"
    }
   ],
   "source": [
    "morphed_premise"
   ]
  },
  {
   "cell_type": "code",
   "execution_count": null,
   "id": "fe23b93a-37e1-4a2e-82a0-19c437c15bdd",
   "metadata": {},
   "outputs": [],
   "source": []
  }
 ],
 "metadata": {
  "kernelspec": {
   "display_name": "Python 3",
   "language": "python",
   "name": "python3"
  },
  "language_info": {
   "codemirror_mode": {
    "name": "ipython",
    "version": 3
   },
   "file_extension": ".py",
   "mimetype": "text/x-python",
   "name": "python",
   "nbconvert_exporter": "python",
   "pygments_lexer": "ipython3",
   "version": "3.7.6"
  }
 },
 "nbformat": 4,
 "nbformat_minor": 5
}
